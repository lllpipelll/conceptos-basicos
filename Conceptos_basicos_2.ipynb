{
  "nbformat": 4,
  "nbformat_minor": 0,
  "metadata": {
    "colab": {
      "provenance": [],
      "authorship_tag": "ABX9TyPVPuw2Yx3+aT65gVgIuWXx",
      "include_colab_link": true
    },
    "kernelspec": {
      "name": "python3",
      "display_name": "Python 3"
    },
    "language_info": {
      "name": "python"
    }
  },
  "cells": [
    {
      "cell_type": "markdown",
      "metadata": {
        "id": "view-in-github",
        "colab_type": "text"
      },
      "source": [
        "<a href=\"https://colab.research.google.com/github/lllpipelll/conceptos-basicos/blob/main/Conceptos_basicos_2.ipynb\" target=\"_parent\"><img src=\"https://colab.research.google.com/assets/colab-badge.svg\" alt=\"Open In Colab\"/></a>"
      ]
    },
    {
      "cell_type": "markdown",
      "source": [
        "**Conceptos Basicos Andres Moncada**"
      ],
      "metadata": {
        "id": "uYsK3lseuZ_9"
      }
    },
    {
      "cell_type": "markdown",
      "source": [
        "Crear un programa donde se solicita ingresar su nombre y su edad, donde se imprima un mensaje saludándolo y donde se indique cuantos años tendrá en cinco años.\n",
        "\n",
        "\n"
      ],
      "metadata": {
        "id": "rq7kHVhcsfS2"
      }
    },
    {
      "cell_type": "code",
      "execution_count": 1,
      "metadata": {
        "colab": {
          "base_uri": "https://localhost:8080/"
        },
        "id": "hKfFktsVr16e",
        "outputId": "b5616027-fb82-4044-a0e4-a4238d843e74"
      },
      "outputs": [
        {
          "output_type": "stream",
          "name": "stdout",
          "text": [
            "Ingrese su nombre: andres\n",
            "Hola andres\n",
            "Ingrese su edad: 18\n",
            "En cinco años tendra 23\n"
          ]
        }
      ],
      "source": [
        "nombre = input(\"Ingrese su nombre: \")\n",
        "print(\"Hola\", nombre)\n",
        "\n",
        "edad = input(\"Ingrese su edad: \")\n",
        "edad = int(edad)\n",
        "\n",
        "print(\"En cinco años tendra\", edad + 5)"
      ]
    },
    {
      "cell_type": "markdown",
      "source": [
        "Estructuras de datos"
      ],
      "metadata": {
        "id": "xtvoNrwFsrkQ"
      }
    },
    {
      "cell_type": "code",
      "source": [
        "# crear lista\n",
        "\n",
        "mi_lista =  [1, 2, 3, 4, 5]\n",
        "print(mi_lista)"
      ],
      "metadata": {
        "colab": {
          "base_uri": "https://localhost:8080/"
        },
        "id": "kwAfch0Lsoxg",
        "outputId": "9cbc3f32-b085-4806-9711-dda5e7175ab7"
      },
      "execution_count": 2,
      "outputs": [
        {
          "output_type": "stream",
          "name": "stdout",
          "text": [
            "[1, 2, 3, 4, 5]\n"
          ]
        }
      ]
    },
    {
      "cell_type": "code",
      "source": [
        "print(mi_lista[4])"
      ],
      "metadata": {
        "colab": {
          "base_uri": "https://localhost:8080/"
        },
        "id": "7qBe98vjsuwH",
        "outputId": "684fd4bd-cc8e-4fc7-c1c2-7ac9783181f6"
      },
      "execution_count": 3,
      "outputs": [
        {
          "output_type": "stream",
          "name": "stdout",
          "text": [
            "5\n"
          ]
        }
      ]
    },
    {
      "cell_type": "code",
      "source": [
        "print(len(mi_lista))"
      ],
      "metadata": {
        "colab": {
          "base_uri": "https://localhost:8080/"
        },
        "id": "K3jgUQiVsw1r",
        "outputId": "c46553b1-5691-467f-9440-ff46e48a3685"
      },
      "execution_count": 4,
      "outputs": [
        {
          "output_type": "stream",
          "name": "stdout",
          "text": [
            "5\n"
          ]
        }
      ]
    },
    {
      "cell_type": "code",
      "source": [
        "mi_lista.append(9)\n",
        "print(mi_lista)"
      ],
      "metadata": {
        "colab": {
          "base_uri": "https://localhost:8080/"
        },
        "id": "e0csO0keszZw",
        "outputId": "d4bcf786-8553-4cc5-f546-b0cdf99122a5"
      },
      "execution_count": 5,
      "outputs": [
        {
          "output_type": "stream",
          "name": "stdout",
          "text": [
            "[1, 2, 3, 4, 5, 9]\n"
          ]
        }
      ]
    },
    {
      "cell_type": "code",
      "source": [
        "frutas = [\"manzana\", \"banana\", \"cereza\"]\n",
        "frutas.append(\"mango\")\n",
        "print(frutas)"
      ],
      "metadata": {
        "colab": {
          "base_uri": "https://localhost:8080/"
        },
        "id": "K9-RMctXs2Ei",
        "outputId": "231f5d6b-c67c-4f97-c9a3-316392a70a6e"
      },
      "execution_count": 6,
      "outputs": [
        {
          "output_type": "stream",
          "name": "stdout",
          "text": [
            "['manzana', 'banana', 'cereza', 'mango']\n"
          ]
        }
      ]
    },
    {
      "cell_type": "code",
      "source": [
        "# modificar\n",
        "\n",
        "frutas.remove(\"banana\")\n",
        "print(frutas)"
      ],
      "metadata": {
        "colab": {
          "base_uri": "https://localhost:8080/"
        },
        "id": "2MCIG8XBs5My",
        "outputId": "18e3e07a-c316-4a97-b8a4-fb72c94b6c42"
      },
      "execution_count": 7,
      "outputs": [
        {
          "output_type": "stream",
          "name": "stdout",
          "text": [
            "['manzana', 'cereza', 'mango']\n"
          ]
        }
      ]
    },
    {
      "cell_type": "code",
      "source": [
        "frutas[0] = \"pera\"\n",
        "print(frutas)"
      ],
      "metadata": {
        "colab": {
          "base_uri": "https://localhost:8080/"
        },
        "id": "u3qoe0AZs7Xi",
        "outputId": "4f4b469e-5c10-4491-a7d1-1b8cd9d5fbc7"
      },
      "execution_count": 8,
      "outputs": [
        {
          "output_type": "stream",
          "name": "stdout",
          "text": [
            "['pera', 'cereza', 'mango']\n"
          ]
        }
      ]
    },
    {
      "cell_type": "code",
      "source": [
        "type(frutas)"
      ],
      "metadata": {
        "colab": {
          "base_uri": "https://localhost:8080/"
        },
        "id": "2lkBf8zDs9hS",
        "outputId": "2fa22457-5e22-4f8f-f2e7-75cb0a92ab53"
      },
      "execution_count": 9,
      "outputs": [
        {
          "output_type": "execute_result",
          "data": {
            "text/plain": [
              "list"
            ]
          },
          "metadata": {},
          "execution_count": 9
        }
      ]
    },
    {
      "cell_type": "code",
      "source": [
        "mi_tupla = (1, 2, 3, 4, 5)\n",
        "print(mi_tupla)\n",
        "type(mi_tupla)"
      ],
      "metadata": {
        "colab": {
          "base_uri": "https://localhost:8080/"
        },
        "id": "Bg4RpniVtArt",
        "outputId": "cac0c3eb-c856-4bee-f7a3-ed21e2f75a89"
      },
      "execution_count": 10,
      "outputs": [
        {
          "output_type": "stream",
          "name": "stdout",
          "text": [
            "(1, 2, 3, 4, 5)\n"
          ]
        },
        {
          "output_type": "execute_result",
          "data": {
            "text/plain": [
              "tuple"
            ]
          },
          "metadata": {},
          "execution_count": 10
        }
      ]
    },
    {
      "cell_type": "code",
      "source": [
        "mi_diccionario = {\"nombre\": \"pepe\", \"apellido\": \"perez\" , \"edad\" : 20}\n",
        "print(mi_diccionario)\n",
        "type(mi_diccionario)"
      ],
      "metadata": {
        "colab": {
          "base_uri": "https://localhost:8080/"
        },
        "id": "DfcuMEC_tEZV",
        "outputId": "8beec64d-5f26-45b2-b88e-2b3a927c0c77"
      },
      "execution_count": 11,
      "outputs": [
        {
          "output_type": "stream",
          "name": "stdout",
          "text": [
            "{'nombre': 'pepe', 'apellido': 'perez', 'edad': 20}\n"
          ]
        },
        {
          "output_type": "execute_result",
          "data": {
            "text/plain": [
              "dict"
            ]
          },
          "metadata": {},
          "execution_count": 11
        }
      ]
    },
    {
      "cell_type": "code",
      "source": [
        "mi_diccionario[\"nombre\"] = \"Juan\"\n",
        "mi_diccionario[\"apellido\"] = \"Perez\"\n",
        "print(mi_diccionario)"
      ],
      "metadata": {
        "colab": {
          "base_uri": "https://localhost:8080/"
        },
        "id": "O0geEuvitKc0",
        "outputId": "96004a70-f432-4142-eb56-e5ddb4c7ed6b"
      },
      "execution_count": 12,
      "outputs": [
        {
          "output_type": "stream",
          "name": "stdout",
          "text": [
            "{'nombre': 'Juan', 'apellido': 'Perez', 'edad': 20}\n"
          ]
        }
      ]
    },
    {
      "cell_type": "markdown",
      "source": [
        "Estructura de control de fluo"
      ],
      "metadata": {
        "id": "H-vwEN4vtRtP"
      }
    },
    {
      "cell_type": "code",
      "source": [
        "x = input(\"Ingrese un numero: \")\n",
        "x = int(x)\n",
        "type(x)\n"
      ],
      "metadata": {
        "colab": {
          "base_uri": "https://localhost:8080/"
        },
        "id": "0yGFfdcTtL7P",
        "outputId": "e074a733-d49b-4f83-b79d-55ecbd2ecc5f"
      },
      "execution_count": 13,
      "outputs": [
        {
          "name": "stdout",
          "output_type": "stream",
          "text": [
            "Ingrese un numero: 5\n"
          ]
        },
        {
          "output_type": "execute_result",
          "data": {
            "text/plain": [
              "int"
            ]
          },
          "metadata": {},
          "execution_count": 13
        }
      ]
    },
    {
      "cell_type": "code",
      "source": [
        "nota = input(\"Ingrese su nota: \")\n",
        "nota = int(nota)\n",
        "\n",
        "if nota >= 5:\n",
        "  print(\"Aprobado\")\n",
        "else:\n",
        "  print(\"Reprobado\")"
      ],
      "metadata": {
        "colab": {
          "base_uri": "https://localhost:8080/"
        },
        "id": "tSskHKuVuAlM",
        "outputId": "4a76b5a1-e177-4640-f95a-6be11265a919"
      },
      "execution_count": 14,
      "outputs": [
        {
          "output_type": "stream",
          "name": "stdout",
          "text": [
            "Ingrese su nota: 5\n",
            "Aprobado\n"
          ]
        }
      ]
    },
    {
      "cell_type": "markdown",
      "source": [
        "Ejercicio"
      ],
      "metadata": {
        "id": "X5wn0a_7uGKM"
      }
    },
    {
      "cell_type": "code",
      "source": [
        "edad = input(\"Ingrese su edad: \")\n",
        "edad = int(edad)\n",
        "\n",
        "if edad < 2:\n",
        "  print(\"Infante\")\n",
        "if edad >= 2 and edad <= 12:\n",
        "  print(\"Niño\")\n",
        "if edad > 12 and edad <= 17:\n",
        "  print(\"Adolescente\")\n",
        "if edad >= 18 and edad <= 64:\n",
        "  print(\"Adulto\")\n",
        "if edad >= 65:\n",
        "  print(\"senior\")"
      ],
      "metadata": {
        "colab": {
          "base_uri": "https://localhost:8080/"
        },
        "id": "jrZDedKKuEGt",
        "outputId": "241eac1c-a759-43a6-8b67-90ec7a6841b1"
      },
      "execution_count": 15,
      "outputs": [
        {
          "output_type": "stream",
          "name": "stdout",
          "text": [
            "Ingrese su edad: 19\n",
            "Adulto\n"
          ]
        }
      ]
    },
    {
      "cell_type": "markdown",
      "source": [
        "Toma una variable y le da una secuencia"
      ],
      "metadata": {
        "id": "-7JvtdgmuNFs"
      }
    },
    {
      "cell_type": "code",
      "source": [
        "# ciclos for\n",
        "\n",
        "frutas = [\"manzana\", \"banana\", \"cereza\"]\n",
        "for fruta in frutas:\n",
        "  print(\"me gusta comer\", fruta)\n"
      ],
      "metadata": {
        "colab": {
          "base_uri": "https://localhost:8080/"
        },
        "id": "ouPKneiquKgM",
        "outputId": "ead9e401-3e54-4d2f-f65c-0c203a461dd8"
      },
      "execution_count": 16,
      "outputs": [
        {
          "output_type": "stream",
          "name": "stdout",
          "text": [
            "me gusta comer manzana\n",
            "me gusta comer banana\n",
            "me gusta comer cereza\n"
          ]
        }
      ]
    },
    {
      "cell_type": "code",
      "source": [
        "lista = [1, 2, 3, 4, 5]\n",
        "for numero in lista:\n",
        "  print(numero *10)"
      ],
      "metadata": {
        "colab": {
          "base_uri": "https://localhost:8080/"
        },
        "id": "SVpelLN4uSC8",
        "outputId": "6c92bfb0-5f5f-43fa-8891-458c21c88251"
      },
      "execution_count": 17,
      "outputs": [
        {
          "output_type": "stream",
          "name": "stdout",
          "text": [
            "10\n",
            "20\n",
            "30\n",
            "40\n",
            "50\n"
          ]
        }
      ]
    }
  ]
}